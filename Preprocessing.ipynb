{
  "nbformat": 4,
  "nbformat_minor": 0,
  "metadata": {
    "language_info": {
      "codemirror_mode": {
        "name": "ipython",
        "version": 3
      },
      "file_extension": ".py",
      "mimetype": "text/x-python",
      "name": "python",
      "nbconvert_exporter": "python",
      "pygments_lexer": "ipython3",
      "version": "3.9.4"
    },
    "orig_nbformat": 2,
    "kernelspec": {
      "name": "python394jvsc74a57bd0d7f32d9ee47d8d5f9ffdb6c46c9e61546893e0939af1c59848852da899251be4",
      "display_name": "Python 3.9.4 64-bit ('machine-learning-basics': conda)"
    },
    "colab": {
      "name": "Preprocessing.ipynb",
      "provenance": [],
      "include_colab_link": true
    },
    "accelerator": "GPU"
  },
  "cells": [
    {
      "cell_type": "markdown",
      "metadata": {
        "id": "view-in-github",
        "colab_type": "text"
      },
      "source": [
        "<a href=\"https://colab.research.google.com/github/matiasvallejosdev/my-face-recognition/blob/main/Preprocessing.ipynb\" target=\"_parent\"><img src=\"https://colab.research.google.com/assets/colab-badge.svg\" alt=\"Open In Colab\"/></a>"
      ]
    },
    {
      "cell_type": "code",
      "metadata": {
        "id": "M997LhQLjx26"
      },
      "source": [
        "import cv2\n",
        "import os\n",
        "import numpy as np\n",
        "import matplotlib.pyplot as plt\n",
        " \n",
        "from time import time #importamos la función time para capturar tiempos"
      ],
      "execution_count": 1,
      "outputs": []
    },
    {
      "cell_type": "markdown",
      "metadata": {
        "id": "6G17kc-qjx28"
      },
      "source": [
        "## Preprocesing multiples images\n",
        "Paper reference:\n",
        "[Image Pre-processing Using OpenCV Library on MORPH-II Face Database](https://uncw.edu/math/reu/documents/image-pre-processing.pdf)"
      ]
    },
    {
      "cell_type": "markdown",
      "metadata": {
        "id": "hs5EoRyxk2Oy"
      },
      "source": [
        "## 1. Preparing alghoritm (Helpers)\n",
        "\n",
        "1. Initialize in memory classifiers\n",
        "2. Set parameters for cascade classifiers\n",
        "3. Get data images_faces from drive"
      ]
    },
    {
      "cell_type": "markdown",
      "metadata": {
        "id": "WY-UWww7lAqc"
      },
      "source": [
        "### Step 1.1"
      ]
    },
    {
      "cell_type": "code",
      "metadata": {
        "colab": {
          "base_uri": "https://localhost:8080/"
        },
        "id": "bdv3eHTEx5e8",
        "outputId": "449106af-f2aa-45f8-e923-1732d1d70668"
      },
      "source": [
        "from google.colab import drive\n",
        "drive.mount('/content/drive') "
      ],
      "execution_count": 2,
      "outputs": [
        {
          "output_type": "stream",
          "text": [
            "Mounted at /content/drive\n"
          ],
          "name": "stdout"
        }
      ]
    },
    {
      "cell_type": "code",
      "metadata": {
        "id": "j5_HTeX2_mxf"
      },
      "source": [
        "from google.colab.patches import cv2_imshow"
      ],
      "execution_count": 3,
      "outputs": []
    },
    {
      "cell_type": "code",
      "metadata": {
        "id": "N5hKqwkhjx29"
      },
      "source": [
        "# Prepare data\n",
        "faces_cascade = '/content/drive/My Drive/Machine Learning/haarcascade_frontalface_alt2.xml'\n",
        "eyes_cascade = '/content/drive/My Drive/Machine Learning/haarcascade_eye_tree_eyeglasses.xml'"
      ],
      "execution_count": 4,
      "outputs": []
    },
    {
      "cell_type": "code",
      "metadata": {
        "colab": {
          "base_uri": "https://localhost:8080/"
        },
        "id": "qdDru83ClG1r",
        "outputId": "de22a739-d5ea-4b72-d602-75c8971431f7"
      },
      "source": [
        "faces_cascade = cv2.CascadeClassifier(faces_cascade)\n",
        "eyes_cascade = cv2.CascadeClassifier(eyes_cascade)\n",
        "\n",
        "print(\"Load faces and eyes haarcascade\")"
      ],
      "execution_count": 5,
      "outputs": [
        {
          "output_type": "stream",
          "text": [
            "Load faces and eyes haarcascade\n"
          ],
          "name": "stdout"
        }
      ]
    },
    {
      "cell_type": "markdown",
      "metadata": {
        "id": "-FD70PsLli5N"
      },
      "source": [
        "### Step 1.2"
      ]
    },
    {
      "cell_type": "code",
      "metadata": {
        "colab": {
          "base_uri": "https://localhost:8080/"
        },
        "id": "03YaGIJZlhFt",
        "outputId": "aef55c27-ff62-4613-b4a7-6a91cf39acba"
      },
      "source": [
        "## Faces\n",
        "faceScale = 1.1\n",
        "faceMinNeighborgs = 5\n",
        "faceFlags = 1\n",
        "## Eyes\n",
        "eyeScale = 1.049872\n",
        "eyesMinNeighborgs = 5\n",
        "eyesFlags = 1\n",
        "\n",
        "print(\"Face scale is:\", faceScale)\n",
        "print(\"Face minimal neighborgs is:\", faceMinNeighborgs)\n",
        "print(\"Face flags is:\", faceFlags)\n",
        "\n",
        "print(\"\\nEye scale is:\", eyeScale)\n",
        "print(\"Eye minimal neighborgs is:\", eyesMinNeighborgs)\n",
        "print(\"Eye flags is:\", eyesFlags)"
      ],
      "execution_count": 42,
      "outputs": [
        {
          "output_type": "stream",
          "text": [
            "Face scale is: 1.1\n",
            "Face minimal neighborgs is: 5\n",
            "Face flags is: 1\n",
            "\n",
            "Eye scale is: 1.049872\n",
            "Eye minimal neighborgs is: 5\n",
            "Eye flags is: 1\n"
          ],
          "name": "stdout"
        }
      ]
    },
    {
      "cell_type": "markdown",
      "metadata": {
        "id": "4XS3l3fiuqVu"
      },
      "source": [
        "### Step 1.3"
      ]
    },
    {
      "cell_type": "code",
      "metadata": {
        "id": "5A2_XvR6yLEK"
      },
      "source": [
        "!ls \"/content/drive/My Drive/Machine Learning/Dataset\""
      ],
      "execution_count": null,
      "outputs": []
    },
    {
      "cell_type": "code",
      "metadata": {
        "colab": {
          "base_uri": "https://localhost:8080/"
        },
        "id": "76l9xWBKuos_",
        "outputId": "8d8223ec-8815-4fc8-8840-b804787d0bc9"
      },
      "source": [
        "# Get data and preparing\n",
        "url_datapath = '/content/drive/My Drive/Machine Learning/Dataset/Me'\n",
        "img_names= os.listdir(url_datapath)\n",
        "\n",
        "print(\"Preparing data..\")\n",
        "print(\"Datapath from drive is:\", url_datapath)\n",
        "print(\"Total images collected:\", len(img_names))"
      ],
      "execution_count": 47,
      "outputs": [
        {
          "output_type": "stream",
          "text": [
            "Preparing data..\n",
            "Datapath from drive is: /content/drive/My Drive/Machine Learning/Dataset/Me\n",
            "Total images collected: 3899\n"
          ],
          "name": "stdout"
        }
      ]
    },
    {
      "cell_type": "markdown",
      "metadata": {
        "id": "dhRLzXIvk8Nj"
      },
      "source": [
        "\n",
        "## 2. Preparing data for training a deep neural network\n",
        "\n",
        "1. Convert to grayscale\n",
        "2. Face detection\n",
        "3. Eye detection\n",
        "4. Image Rotation\n",
        "5. Face and Eye Re-detection\n",
        "6. Cropping and Scaling\n",
        "7. Manual Preprocesing Undetactable Images\n"
      ]
    },
    {
      "cell_type": "markdown",
      "metadata": {
        "id": "RJ2aHXWRCJEl"
      },
      "source": [
        "### Step 2.0"
      ]
    },
    {
      "cell_type": "code",
      "metadata": {
        "id": "TNUWr2DP7YvD"
      },
      "source": [
        "def GetFace(imgColor, imgGray, scale, minNeig, maxToCrop = 1, flags = 1):\n",
        "    faceColor_crop = []\n",
        "    faceGray_crop = []\n",
        "\n",
        "    faceDetection = faces_cascade.detectMultiScale(imgGray, scale, minNeig)\n",
        "\n",
        "    print('Can detect(face): ', len(faceDetection))\n",
        "\n",
        "    for f in faceDetection:\n",
        "        x, y, w, h = [ v for v in f ]\n",
        "        cv2.rectangle(imgGray, (x, y), (x+w, y+h), (255, 0, 0), 4)\n",
        "        cv2.rectangle(imgColor, (x, y), (x+w, y+h), (255, 0, 0), 4)\n",
        "        \"\"\"if len(faceDetection) == maxToCrop:\n",
        "            cv2.imshow(\"Image\", imgGray)\n",
        "            cv2.waitKey(500)\"\"\"\n",
        "            \n",
        "    if len(faceDetection) == maxToCrop:\n",
        "      faceGray_crop.append(imgGray[y:y+h, x:x+w])\n",
        "      faceColor_crop.append(imgColor[y:y+h, x:x+w])\n",
        "\n",
        "    return faceDetection, faceGray_crop, faceColor_crop"
      ],
      "execution_count": 41,
      "outputs": []
    },
    {
      "cell_type": "markdown",
      "metadata": {
        "id": "p0LKowm3jx29"
      },
      "source": [
        "### Step 1.1"
      ]
    },
    {
      "cell_type": "code",
      "metadata": {
        "tags": [
          "outputPrepend"
        ],
        "colab": {
          "base_uri": "https://localhost:8080/",
          "height": 636
        },
        "id": "lhxdFWFjjx29",
        "outputId": "a8c37be5-359d-41a3-b0e7-d23083bda29e"
      },
      "source": [
        "min_image = 3050\n",
        "max_image = 3060\n",
        "\n",
        "fail = 0\n",
        "correct = 0\n",
        "incorrect = 0\n",
        "\n",
        "tiempo_inicial = time() \n",
        "\n",
        "for imgname in img_names[min_image : max_image]:\n",
        "      \n",
        "    img_path = os.path.join(url_datapath, imgname)\n",
        "    img = cv2.imread(img_path)\n",
        "\n",
        "    print('\\nRead Image: ', imgname)\n",
        "\n",
        "    try:\n",
        "        # 1. Convert to gray scale\n",
        "        gray = cv2.cvtColor(img, cv2.COLOR_BGR2GRAY)\n",
        "        \"\"\"cv2.imshow(\"OpenCV\",gray)\n",
        "        cv2.waitKey(0)\n",
        "        cv2.destroyAllWindows() \"\"\"\n",
        "\n",
        "        # 2. Face detection\n",
        "        faceDetection, faceGray_crop, faceColor_crop = GetFace(img, gray, faceScale, faceMinNeighborgs)\n",
        "\n",
        "        if len(faceDetection) == 1:\n",
        "            correct = correct + 1\n",
        "            cv2_imshow(faceColor_crop[0])\n",
        "            #cv2.waitKey(200)\n",
        "            #cv2.destroyAllWindows()\n",
        "             \n",
        "        if len(faceDetection) == 0 or len(faceDetection) > 1:\n",
        "            incorrect = incorrect + 1 \n",
        "\n",
        "        #SaveImage(img, len(facesDetection), len(eyesDetection), index)\n",
        "    except Exception as e:\n",
        "        fail = fail + 1\n",
        "        print('Exception:', e)\n",
        "\n",
        "tiempo_final = time() \n",
        "tiempo_ejecucion = tiempo_final - tiempo_inicial\n",
        "\n",
        "print('\\nData process succesfull: ', correct)\n",
        "print('Data process incorrect: ', incorrect)\n",
        "print('Accuracy: ', (correct / (correct + incorrect)) * 100)\n",
        "print('Have exceptions: ', fail)\n",
        "print('Finish ejecution in: ', tiempo_ejecucion)"
      ],
      "execution_count": 55,
      "outputs": [
        {
          "output_type": "stream",
          "text": [
            "\n",
            "Read Image:  Me (3822).jpg\n",
            "Can detect(face):  0\n",
            "\n",
            "Read Image:  Me (3829).jpg\n",
            "Can detect(face):  0\n",
            "\n",
            "Read Image:  Me (3785).jpg\n",
            "Can detect(face):  3\n",
            "\n",
            "Read Image:  Me (3801).jpg\n",
            "Can detect(face):  1\n"
          ],
          "name": "stdout"
        },
        {
          "output_type": "display_data",
          "data": {
            "image/png": "[encoded data removed]",
            "text/plain": [
              "<PIL.Image.Image image mode=RGB size=54x54 at 0x7FE00782CA90>"
            ]
          },
          "metadata": {
            "tags": []
          }
        },
        {
          "output_type": "stream",
          "text": [
            "\n",
            "Read Image:  Me (3805).jpg\n"
          ],
          "name": "stdout"
        },
        {
          "output_type": "error",
          "ename": "KeyboardInterrupt",
          "evalue": "ignored",
          "traceback": [
            "\u001b[0;31m---------------------------------------------------------------------------\u001b[0m",
            "\u001b[0;31mKeyboardInterrupt\u001b[0m                         Traceback (most recent call last)",
            "\u001b[0;32m<ipython-input-55-177835e2d5ac>\u001b[0m in \u001b[0;36m<module>\u001b[0;34m()\u001b[0m\n\u001b[1;32m     23\u001b[0m \u001b[0;34m\u001b[0m\u001b[0m\n\u001b[1;32m     24\u001b[0m         \u001b[0;31m# 2. Face detection\u001b[0m\u001b[0;34m\u001b[0m\u001b[0;34m\u001b[0m\u001b[0;34m\u001b[0m\u001b[0m\n\u001b[0;32m---> 25\u001b[0;31m         \u001b[0mfaceDetection\u001b[0m\u001b[0;34m,\u001b[0m \u001b[0mfaceGray_crop\u001b[0m\u001b[0;34m,\u001b[0m \u001b[0mfaceColor_crop\u001b[0m \u001b[0;34m=\u001b[0m \u001b[0mGetFace\u001b[0m\u001b[0;34m(\u001b[0m\u001b[0mimg\u001b[0m\u001b[0;34m,\u001b[0m \u001b[0mgray\u001b[0m\u001b[0;34m,\u001b[0m \u001b[0mfaceScale\u001b[0m\u001b[0;34m,\u001b[0m \u001b[0mfaceMinNeighborgs\u001b[0m\u001b[0;34m)\u001b[0m\u001b[0;34m\u001b[0m\u001b[0;34m\u001b[0m\u001b[0m\n\u001b[0m\u001b[1;32m     26\u001b[0m \u001b[0;34m\u001b[0m\u001b[0m\n\u001b[1;32m     27\u001b[0m         \u001b[0;32mif\u001b[0m \u001b[0mlen\u001b[0m\u001b[0;34m(\u001b[0m\u001b[0mfaceDetection\u001b[0m\u001b[0;34m)\u001b[0m \u001b[0;34m==\u001b[0m \u001b[0;36m1\u001b[0m\u001b[0;34m:\u001b[0m\u001b[0;34m\u001b[0m\u001b[0;34m\u001b[0m\u001b[0m\n",
            "\u001b[0;32m<ipython-input-41-180972ed08e6>\u001b[0m in \u001b[0;36mGetFace\u001b[0;34m(imgColor, imgGray, scale, minNeig, maxToCrop, flags)\u001b[0m\n\u001b[1;32m      3\u001b[0m     \u001b[0mfaceGray_crop\u001b[0m \u001b[0;34m=\u001b[0m \u001b[0;34m[\u001b[0m\u001b[0;34m]\u001b[0m\u001b[0;34m\u001b[0m\u001b[0;34m\u001b[0m\u001b[0m\n\u001b[1;32m      4\u001b[0m \u001b[0;34m\u001b[0m\u001b[0m\n\u001b[0;32m----> 5\u001b[0;31m     \u001b[0mfaceDetection\u001b[0m \u001b[0;34m=\u001b[0m \u001b[0mfaces_cascade\u001b[0m\u001b[0;34m.\u001b[0m\u001b[0mdetectMultiScale\u001b[0m\u001b[0;34m(\u001b[0m\u001b[0mimgGray\u001b[0m\u001b[0;34m,\u001b[0m \u001b[0mscale\u001b[0m\u001b[0;34m,\u001b[0m \u001b[0mminNeig\u001b[0m\u001b[0;34m)\u001b[0m\u001b[0;34m\u001b[0m\u001b[0;34m\u001b[0m\u001b[0m\n\u001b[0m\u001b[1;32m      6\u001b[0m \u001b[0;34m\u001b[0m\u001b[0m\n\u001b[1;32m      7\u001b[0m     \u001b[0mprint\u001b[0m\u001b[0;34m(\u001b[0m\u001b[0;34m'Can detect(face): '\u001b[0m\u001b[0;34m,\u001b[0m \u001b[0mlen\u001b[0m\u001b[0;34m(\u001b[0m\u001b[0mfaceDetection\u001b[0m\u001b[0;34m)\u001b[0m\u001b[0;34m)\u001b[0m\u001b[0;34m\u001b[0m\u001b[0;34m\u001b[0m\u001b[0m\n",
            "\u001b[0;31mKeyboardInterrupt\u001b[0m: "
          ]
        }
      ]
    },
    {
      "cell_type": "code",
      "metadata": {
        "id": "vTaEYs4yjx2-"
      },
      "source": [
        "        # 3. Eye detections\n",
        "        eyesDetection, face, faceEyeGray_crop = GetEyesDetection(img, gray, facesDetection)\n",
        "        # 4. Rotation\n",
        "\n",
        "        # 5. Face and eye re-detection\n",
        "\n",
        "        # 6. Cropping and scaling\n",
        "        \n",
        "        #ShowImage(img, faceEyeColor_crop)\n",
        "        #face_crop = GetCropFaces(gray, facesDetection)\n",
        "        # Saving"
      ],
      "execution_count": null,
      "outputs": []
    }
  ]
}