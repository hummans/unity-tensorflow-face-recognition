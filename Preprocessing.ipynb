{
  "nbformat": 4,
  "nbformat_minor": 0,
  "metadata": {
    "language_info": {
      "codemirror_mode": {
        "name": "ipython",
        "version": 3
      },
      "file_extension": ".py",
      "mimetype": "text/x-python",
      "name": "python",
      "nbconvert_exporter": "python",
      "pygments_lexer": "ipython3",
      "version": "3.9.4"
    },
    "orig_nbformat": 2,
    "kernelspec": {
      "name": "python394jvsc74a57bd0d7f32d9ee47d8d5f9ffdb6c46c9e61546893e0939af1c59848852da899251be4",
      "display_name": "Python 3.9.4 64-bit ('machine-learning-basics': conda)"
    },
    "colab": {
      "name": "Preprocessing.ipynb",
      "provenance": [],
      "include_colab_link": true
    },
    "accelerator": "GPU"
  },
  "cells": [
    {
      "cell_type": "markdown",
      "metadata": {
        "id": "view-in-github",
        "colab_type": "text"
      },
      "source": [
        "<a href=\"https://colab.research.google.com/github/matiasvallejosdev/my-face-recognition/blob/main/Preprocessing.ipynb\" target=\"_parent\"><img src=\"https://colab.research.google.com/assets/colab-badge.svg\" alt=\"Open In Colab\"/></a>"
      ]
    },
    {
      "cell_type": "code",
      "metadata": {
        "id": "M997LhQLjx26"
      },
      "source": [
        "import cv2\n",
        "import os\n",
        "import numpy as np\n",
        "import matplotlib.pyplot as plt\n",
        " \n",
        "from time import time #importamos la función time para capturar tiempos"
      ],
      "execution_count": 4,
      "outputs": []
    },
    {
      "cell_type": "code",
      "metadata": {
        "id": "j5_HTeX2_mxf"
      },
      "source": [
        "from google.colab.patches import cv2_imshow"
      ],
      "execution_count": 5,
      "outputs": []
    },
    {
      "cell_type": "markdown",
      "metadata": {
        "id": "6G17kc-qjx28"
      },
      "source": [
        "## Preprocesing multiples images\n",
        "Paper reference:\n",
        "[Image Pre-processing Using OpenCV Library on MORPH-II Face Database](https://uncw.edu/math/reu/documents/image-pre-processing.pdf)"
      ]
    },
    {
      "cell_type": "markdown",
      "metadata": {
        "id": "hs5EoRyxk2Oy"
      },
      "source": [
        "## 1. Preparing alghoritm (Helpers)\n",
        "\n",
        "1. Initialize in memory classifiers\n",
        "2. Set parameters for cascade classifiers\n",
        "3. Get data images_faces from drive"
      ]
    },
    {
      "cell_type": "markdown",
      "metadata": {
        "id": "WY-UWww7lAqc"
      },
      "source": [
        "### Step 1.1"
      ]
    },
    {
      "cell_type": "code",
      "metadata": {
        "colab": {
          "base_uri": "https://localhost:8080/"
        },
        "id": "bdv3eHTEx5e8",
        "outputId": "7fd9a2b3-b902-47bc-bed0-64d043647821"
      },
      "source": [
        "from google.colab import drive\n",
        "drive.mount('/content/drive') "
      ],
      "execution_count": 6,
      "outputs": [
        {
          "output_type": "stream",
          "text": [
            "Drive already mounted at /content/drive; to attempt to forcibly remount, call drive.mount(\"/content/drive\", force_remount=True).\n"
          ],
          "name": "stdout"
        }
      ]
    },
    {
      "cell_type": "code",
      "metadata": {
        "id": "N5hKqwkhjx29"
      },
      "source": [
        "# Prepare data\n",
        "faces_cascade = '/content/drive/My Drive/Machine Learning/haarcascade_frontalface_alt2.xml'\n",
        "eyes_cascade = '/content/drive/My Drive/Machine Learning/haarcascade_eye_tree_eyeglasses.xml'"
      ],
      "execution_count": 7,
      "outputs": []
    },
    {
      "cell_type": "code",
      "metadata": {
        "colab": {
          "base_uri": "https://localhost:8080/"
        },
        "id": "qdDru83ClG1r",
        "outputId": "34ac00d0-9406-46ba-c877-29cf68222800"
      },
      "source": [
        "faces_cascade = cv2.CascadeClassifier(faces_cascade)\n",
        "eyes_cascade = cv2.CascadeClassifier(eyes_cascade)\n",
        "\n",
        "print(\"Load faces and eyes haarcascade\")"
      ],
      "execution_count": 8,
      "outputs": [
        {
          "output_type": "stream",
          "text": [
            "Load faces and eyes haarcascade\n"
          ],
          "name": "stdout"
        }
      ]
    },
    {
      "cell_type": "markdown",
      "metadata": {
        "id": "-FD70PsLli5N"
      },
      "source": [
        "### Step 1.2"
      ]
    },
    {
      "cell_type": "code",
      "metadata": {
        "colab": {
          "base_uri": "https://localhost:8080/"
        },
        "id": "03YaGIJZlhFt",
        "outputId": "17f4f7d4-9d0f-4f90-8778-5f0010dde1e3"
      },
      "source": [
        "## Faces\n",
        "faceScale = 1.1\n",
        "faceMinNeighborgs = 5\n",
        "## Eyes\n",
        "eyeScale = 1.1\n",
        "eyesMinNeighborgs = 5\n",
        "\n",
        "print(\"Face scale is:\", faceScale)\n",
        "print(\"Face minimal neighborgs is:\", faceMinNeighborgs)\n",
        "print(\"Face flags is:\", faceFlags)\n",
        "\n",
        "print(\"\\nEye scale is:\", eyeScale)\n",
        "print(\"Eye minimal neighborgs is:\", eyesMinNeighborgs)\n",
        "print(\"Eye flags is:\", eyesFlags)"
      ],
      "execution_count": 40,
      "outputs": [
        {
          "output_type": "stream",
          "text": [
            "Face scale is: 1.1\n",
            "Face minimal neighborgs is: 5\n",
            "Face flags is: 1\n",
            "\n",
            "Eye scale is: 1.1\n",
            "Eye minimal neighborgs is: 5\n",
            "Eye flags is: 1\n"
          ],
          "name": "stdout"
        }
      ]
    },
    {
      "cell_type": "markdown",
      "metadata": {
        "id": "4XS3l3fiuqVu"
      },
      "source": [
        "### Step 1.3"
      ]
    },
    {
      "cell_type": "code",
      "metadata": {
        "id": "5A2_XvR6yLEK",
        "outputId": "821a8a24-0c12-4757-9906-cc9b99f713b7",
        "colab": {
          "base_uri": "https://localhost:8080/"
        }
      },
      "source": [
        "!ls \"/content/drive/My Drive/Machine Learning/Dataset\""
      ],
      "execution_count": 10,
      "outputs": [
        {
          "output_type": "stream",
          "text": [
            "Me\n"
          ],
          "name": "stdout"
        }
      ]
    },
    {
      "cell_type": "code",
      "metadata": {
        "colab": {
          "base_uri": "https://localhost:8080/"
        },
        "id": "76l9xWBKuos_",
        "outputId": "27c2831b-bb4a-4412-c97b-8f0f2b7c9f57"
      },
      "source": [
        "# Get data and preparing\n",
        "url_datapath = '/content/drive/My Drive/Machine Learning/Dataset/Me'\n",
        "img_names= os.listdir(url_datapath)\n",
        "\n",
        "print(\"Preparing data..\")\n",
        "print(\"Datapath from drive is:\", url_datapath)\n",
        "print(\"Total images collected:\", len(img_names))"
      ],
      "execution_count": 11,
      "outputs": [
        {
          "output_type": "stream",
          "text": [
            "Preparing data..\n",
            "Datapath from drive is: /content/drive/My Drive/Machine Learning/Dataset/Me\n",
            "Total images collected: 3899\n"
          ],
          "name": "stdout"
        }
      ]
    },
    {
      "cell_type": "markdown",
      "metadata": {
        "id": "dhRLzXIvk8Nj"
      },
      "source": [
        "\n",
        "## 2. Preparing data for training a deep neural network\n",
        "\n",
        "1. Define helpers\n",
        "2. Construct Algoritm\n",
        "  - Convert to grayscale\n",
        "  - Face detection\n",
        "  - Eye detection\n",
        "  - Image Rotation\n",
        "  - Face and Eye Re-detection\n",
        "  - Cropping and Scaling\n",
        "  - Save images\n",
        "3. Manual Preprocesing Undetactable Images\n"
      ]
    },
    {
      "cell_type": "markdown",
      "metadata": {
        "id": "RJ2aHXWRCJEl"
      },
      "source": [
        "### Step 2.1"
      ]
    },
    {
      "cell_type": "code",
      "metadata": {
        "id": "TNUWr2DP7YvD"
      },
      "source": [
        "def GetCropFace(imgGray, scale, minNeig):\n",
        "    grayCrop = []\n",
        "    faceDetection = faces_cascade.detectMultiScale(imgGray, scale, minNeig)\n",
        "    print('Can detect(face): ', len(faceDetection))\n",
        "    \n",
        "    if len(faceDetection) == 1:\n",
        "      (x, y, w, h) = faceDetection[0]\n",
        "      grayCrop.append(imgGray[y:y+h, x:x+w])\n",
        "\n",
        "      cv2.rectangle(imgGray, (x, y), (x+w, y+h), (0, 255, 0), 1);\n",
        "      ShowImage(imgGray[y:y+h, x:x+w])\n",
        "\n",
        "    return faceDetection, grayCrop\n",
        "\n",
        "# Saving data\n",
        "def SaveImage(img, total_facedetection, num):\n",
        "    datapath_saving = '/content/drive/My Drive/Machine Learning/Preprocessing'\n",
        "\n",
        "    if total_facedetection == 1:\n",
        "        # Process finished correctly    \n",
        "        datapath_saving = datapath_saving + '/Correct/' + 'out_' +str(num)+ '.jpg'\n",
        "        print('Saving on: ', datapath_saving)\n",
        "    elif total_facedetection > 1:\n",
        "        # Multiples faces on image\n",
        "        datapath_saving = datapath_saving + '/Multiple/' + 'mult_' +str(num)+ '.jpg'\n",
        "        print('Saving on: ', datapath_saving)\n",
        "    else:\n",
        "        # Face undetacteble\n",
        "        datapath_saving = datapath_saving + '/Undetect/' + 'undetect_' +str(num)+ '.jpg'\n",
        "        print('Saving on: ', datapath_saving)\n",
        "\n",
        "    SaveOpenCvImage(img, datapath_saving)\n",
        "\n",
        "def SaveOpenCvImage(img, path):\n",
        "    try:\n",
        "        cv2.imwrite(path, img)\n",
        "    except Exception as e:\n",
        "        print('Exception: ', e)\n",
        "\n",
        "# Show images\n",
        "def ShowImage(img):    \n",
        "    fig= plt.figure(figsize=(5, 5))\n",
        "    rows = 1\n",
        "\n",
        "    fig.add_subplot(rows, 1, 1)\n",
        "    plt.imshow(img[:,:,::-1])\n",
        "    plt.show()"
      ],
      "execution_count": 32,
      "outputs": []
    },
    {
      "cell_type": "code",
      "metadata": {
        "id": "fU0kFG-1LXKI"
      },
      "source": [
        "def GetCropEyes(imgGray, faceDetection):\n",
        "    faceGray_crop = []\n",
        "    eyesDetection = []\n",
        "    result = False\n",
        "\n",
        "    eyeDetection = eyes_cascade.detectMultiScale(faceGray, eyeScale, eyesMinNeighborgs) # Eyes detector      \n",
        "    print('Eyes detection: ', len(eyeDetection))\n",
        "\n",
        "    if len(eyeDetection) != 2 or len(eyeDetection) < 2:\n",
        "        return result, eyeDetection, faceGray_crop\n",
        "\n",
        "    for (ex, ey ,ew, eh) in eyeDetection: \n",
        "        result = True\n",
        "        cv2.rectangle(faceGray, (ex,ey), (ex+ew, ey+eh), (0, 255, 0), 4)\n",
        "        faceGray_crop.append(faceGray) # Facegray\n",
        "        \n",
        "    return result, eyeDetection, faceGray_crop"
      ],
      "execution_count": 14,
      "outputs": []
    },
    {
      "cell_type": "code",
      "metadata": {
        "id": "0xEafF3mMTQm"
      },
      "source": [
        "def image_resize(image, width = None, height = None, inter = cv2.INTER_AREA):\n",
        "    # initialize the dimensions of the image to be resized and\n",
        "    # grab the image size\n",
        "    dim = None\n",
        "    (h, w) = image.shape[:2]\n",
        "\n",
        "    # if both the width and height are None, then return the\n",
        "    # original image\n",
        "    if width is None and height is None:\n",
        "        return image\n",
        "\n",
        "    # check to see if the width is None\n",
        "    if width is None:\n",
        "        # calculate the ratio of the height and construct the\n",
        "        # dimensions\n",
        "        r = height / float(h)\n",
        "        dim = (int(w * r), height)\n",
        "\n",
        "    # otherwise, the height is None\n",
        "    else:\n",
        "        # calculate the ratio of the width and construct the\n",
        "        # dimensions\n",
        "        r = width / float(w)\n",
        "        dim = (width, int(h * r))\n",
        "\n",
        "    # resize the image\n",
        "    resized = cv2.resize(image, dim, interpolation = inter)\n",
        "\n",
        "    # return the resized image\n",
        "    return resized"
      ],
      "execution_count": 13,
      "outputs": []
    },
    {
      "cell_type": "markdown",
      "metadata": {
        "id": "p0LKowm3jx29"
      },
      "source": [
        "### Step 1.1"
      ]
    },
    {
      "cell_type": "code",
      "metadata": {
        "id": "Hh0wIw7ldTvB"
      },
      "source": [
        "import json\n",
        "from google.colab import files"
      ],
      "execution_count": 65,
      "outputs": []
    },
    {
      "cell_type": "code",
      "metadata": {
        "tags": [
          "outputPrepend"
        ],
        "id": "lhxdFWFjjx29"
      },
      "source": [
        "min_image = 2000\n",
        "max_image = len(img_names) - 1\n",
        "\n",
        "widht_image = 32\n",
        "height_image = 32\n",
        "\n",
        "fail = 0\n",
        "correct = 0\n",
        "incorrect = 0\n",
        "\n",
        "tiempo_inicial = time()\n",
        "\n",
        "index = 2000\n",
        "\n",
        "for imgname in img_names[min_image : max_image]:   \n",
        "    index = index + 1\n",
        "    \n",
        "    img_path = os.path.join(url_datapath, imgname)\n",
        "    img = cv2.imread(img_path)\n",
        "\n",
        "    print('\\nRead Image: ', imgname)\n",
        "    try:\n",
        "        # 1. Convert to gray scale\n",
        "        gray = cv2.cvtColor(img, cv2.COLOR_BGR2GRAY)\n",
        "        # 2. Face detection\n",
        "        faceDetection = faces_cascade.detectMultiScale(gray, faceScale, faceMinNeighborgs)\n",
        "        print('Can detect(face): ', len(faceDetection))\n",
        "\n",
        "\n",
        "        if len(faceDetection) == 1:\n",
        "          (x, y, w, h) = faceDetection[0]\n",
        "\n",
        "          # 3. Eye detection\n",
        "          eyesDetection = eyes_cascade.detectMultiScale(cropImage, eyeScale, eyesMinNeighborgs)\n",
        "          print('Can detect(eyes): ', len(eyesDetection))\n",
        "\n",
        "          \"\"\"if len(eyesDetection) == 2:\n",
        "            for (ex, ey, ew, eh) in eyesDetection:\n",
        "                cv2.rectangle(img, (x+ex, y+ey), (x+ex+ew, y+ey+eh), \n",
        "                              (255, 255, 255), 1)\"\"\"\n",
        "            \n",
        "          # 4. Cropping and scaling\n",
        "          cropImage = img[y:y+h, x:x+w]\n",
        "          cropImage = image_resize(cropImage, 32, 32)\n",
        "\n",
        "          # 5. Normalize image \n",
        "          norm_img = np.zeros((300, 300))\n",
        "          norm_img = cv2.normalize(cropImage, norm_img, 0, 255, cv2.NORM_MINMAX)\n",
        "\n",
        "          # 6. Save image\n",
        "          #ShowImage(norm_img)\n",
        "          SaveImage(norm_img, len(faceDetection), index)\n",
        "\n",
        "          # 7. Track metrics\n",
        "          correct = correct + 1\n",
        "          print(\"Correctly process detection!\")\n",
        "             \n",
        "        if len(faceDetection) == 0 or len(faceDetection) > 1:\n",
        "            # Save incorrect image and track metrics\n",
        "            incorrect = incorrect + 1\n",
        "            SaveImage(img, len(faceDetection), index)\n",
        "            print(\"Incorrectly process detection!\") \n",
        "\n",
        "    except Exception as e:\n",
        "        fail = fail + 1\n",
        "        print('Exception:', e)\n",
        "\n",
        "tiempo_final = time() \n",
        "tiempo_ejecucion = tiempo_final - tiempo_inicial\n",
        "\n",
        "metrics = {\n",
        "            \"CorrectProcess\": correct,\n",
        "            \"IncorrectProcess\": incorrect,\n",
        "            \"Accuracy\": (correct / (correct + incorrect)) * 100,\n",
        "            \"Exceptions\": fail,\n",
        "            \"ExecutionTime\": tiempo_ejecucion     \n",
        "          }\n",
        "          \n",
        "print('')\n",
        "print(json.dumps(metrics))\n",
        "\n",
        "x = json.dumps(metrics)\n",
        "y = x.encode('utf-8')\n",
        "with open('metrics_' + str(min_image) + 'to' + str(max_image) + '.json', 'w') as f:\n",
        "  f.write(json.dumps(metrics))\n",
        "\n",
        "files.download('metrics_' + str(min_image) + 'to' + str(max_image) + '.json')"
      ],
      "execution_count": null,
      "outputs": []
    }
  ]
}