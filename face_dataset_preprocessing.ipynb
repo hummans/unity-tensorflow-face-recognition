{
  "nbformat": 4,
  "nbformat_minor": 0,
  "metadata": {
    "language_info": {
      "codemirror_mode": {
        "name": "ipython",
        "version": 3
      },
      "file_extension": ".py",
      "mimetype": "text/x-python",
      "name": "python",
      "nbconvert_exporter": "python",
      "pygments_lexer": "ipython3",
      "version": "3.9.4"
    },
    "orig_nbformat": 2,
    "kernelspec": {
      "name": "python394jvsc74a57bd0d7f32d9ee47d8d5f9ffdb6c46c9e61546893e0939af1c59848852da899251be4",
      "display_name": "Python 3.9.4 64-bit ('machine-learning-basics': conda)"
    },
    "colab": {
      "name": "Preprocessing.ipynb",
      "provenance": [],
      "toc_visible": true,
      "include_colab_link": true
    },
    "accelerator": "GPU"
  },
  "cells": [
    {
      "cell_type": "markdown",
      "metadata": {
        "id": "view-in-github",
        "colab_type": "text"
      },
      "source": [
        "<a href=\"https://colab.research.google.com/github/matiasvallejosdev/my-face-recognition/blob/main/Preprocessing.ipynb\" target=\"_parent\"><img src=\"https://colab.research.google.com/assets/colab-badge.svg\" alt=\"Open In Colab\"/></a>"
      ]
    },
    {
      "cell_type": "markdown",
      "metadata": {
        "id": "6G17kc-qjx28"
      },
      "source": [
        "## Preprocesing Faces \n",
        "Work reference:\n",
        "[Image Pre-processing Using OpenCV Library on MORPH-II Face Database](https://uncw.edu/math/reu/documents/image-pre-processing.pdf)"
      ]
    },
    {
      "cell_type": "code",
      "metadata": {
        "id": "M997LhQLjx26"
      },
      "source": [
        "import cv2\n",
        "import os\n",
        "import numpy as np\n",
        "import matplotlib.pyplot as plt\n",
        "import json\n",
        "import time\n",
        "\n",
        "from console_progressbar import ProgressBar\n",
        "from time import time\n",
        "from datetime import date\n",
        "from google.colab import files\n",
        "from google.colab.patches import cv2_imshow\n",
        "from google.colab import drive"
      ],
      "execution_count": 84,
      "outputs": []
    },
    {
      "cell_type": "code",
      "metadata": {
        "id": "j5_HTeX2_mxf"
      },
      "source": [
        "!pip install console_progressbar"
      ],
      "execution_count": null,
      "outputs": []
    },
    {
      "cell_type": "markdown",
      "metadata": {
        "id": "hs5EoRyxk2Oy"
      },
      "source": [
        "## 1. Prepare data\n",
        "\n",
        "1. Initialize in memory classifiers\n",
        "2. Set parameters for cascade classifiers\n",
        "3. Get data images_faces from drive"
      ]
    },
    {
      "cell_type": "markdown",
      "metadata": {
        "id": "WY-UWww7lAqc"
      },
      "source": [
        "### Step 1.1"
      ]
    },
    {
      "cell_type": "code",
      "metadata": {
        "colab": {
          "base_uri": "https://localhost:8080/"
        },
        "id": "bdv3eHTEx5e8",
        "outputId": "6dd7199c-5134-468a-903b-bbbc780acf1d"
      },
      "source": [
        "drive.mount('/content/drive') "
      ],
      "execution_count": 2,
      "outputs": [
        {
          "output_type": "stream",
          "text": [
            "Mounted at /content/drive\n"
          ],
          "name": "stdout"
        }
      ]
    },
    {
      "cell_type": "code",
      "metadata": {
        "id": "5A2_XvR6yLEK",
        "colab": {
          "base_uri": "https://localhost:8080/"
        },
        "outputId": "e4c1efbd-b428-4711-90ca-8d5346a4b083"
      },
      "source": [
        "!ls \"/content/drive/My Drive/Machine Learning/Datasets\""
      ],
      "execution_count": 20,
      "outputs": [
        {
          "output_type": "stream",
          "text": [
            "cat-non-cat  cat-vs-dog  googleplaystore_reviews  my-face\n"
          ],
          "name": "stdout"
        }
      ]
    },
    {
      "cell_type": "code",
      "metadata": {
        "id": "VOTPSNUiGqas"
      },
      "source": [
        "URL_DATA = '/content/drive/My Drive/Machine Learning'"
      ],
      "execution_count": 10,
      "outputs": []
    },
    {
      "cell_type": "code",
      "metadata": {
        "id": "N5hKqwkhjx29"
      },
      "source": [
        "# Prepare data\n",
        "faces_cascade = URL_DATA + '/Utils/OpenCvData/haarcascade_frontalface_alt2.xml'\n",
        "eyes_cascade = URL_DATA + '/Utils/OpenCvData/haarcascade_eye_tree_eyeglasses.xml'"
      ],
      "execution_count": 17,
      "outputs": []
    },
    {
      "cell_type": "code",
      "metadata": {
        "colab": {
          "base_uri": "https://localhost:8080/"
        },
        "id": "qdDru83ClG1r",
        "outputId": "537b61e8-ab5e-4149-b2da-6b2ad35abf9d"
      },
      "source": [
        "faces_cascade = cv2.CascadeClassifier(faces_cascade)\n",
        "eyes_cascade = cv2.CascadeClassifier(eyes_cascade)\n",
        "\n",
        "print(faces_cascade)\n",
        "print(eyes_cascade)\n",
        "print(\"CascadeClassifier loaded with sucess!\")"
      ],
      "execution_count": 18,
      "outputs": [
        {
          "output_type": "stream",
          "text": [
            "<CascadeClassifier 0x7fe35859ec10>\n",
            "<CascadeClassifier 0x7fe35859e710>\n",
            "CascadeClassifier loaded with sucess!\n"
          ],
          "name": "stdout"
        }
      ]
    },
    {
      "cell_type": "markdown",
      "metadata": {
        "id": "-FD70PsLli5N"
      },
      "source": [
        "### Step 1.2"
      ]
    },
    {
      "cell_type": "code",
      "metadata": {
        "colab": {
          "base_uri": "https://localhost:8080/"
        },
        "id": "03YaGIJZlhFt",
        "outputId": "e6897513-bbb7-4f46-ce16-d564d1594014"
      },
      "source": [
        "# Classifier Parameters\n",
        "faceScale = 1.05\n",
        "faceMinNeighborgs = 5\n",
        "\n",
        "eyeScale = 1.05\n",
        "eyesMinNeighborgs = 5\n",
        "\n",
        "print(\"Face scale is:\", faceScale)\n",
        "print(\"Face minimal neighborgs is:\", faceMinNeighborgs)\n",
        "\n",
        "print(\"\\nEye scale is:\", eyeScale)\n",
        "print(\"Eye minimal neighborgs is:\", eyesMinNeighborgs)"
      ],
      "execution_count": 67,
      "outputs": [
        {
          "output_type": "stream",
          "text": [
            "Face scale is: 1.05\n",
            "Face minimal neighborgs is: 5\n",
            "\n",
            "Eye scale is: 1.05\n",
            "Eye minimal neighborgs is: 5\n"
          ],
          "name": "stdout"
        }
      ]
    },
    {
      "cell_type": "markdown",
      "metadata": {
        "id": "4XS3l3fiuqVu"
      },
      "source": [
        "### Step 1.3"
      ]
    },
    {
      "cell_type": "code",
      "metadata": {
        "colab": {
          "base_uri": "https://localhost:8080/"
        },
        "id": "76l9xWBKuos_",
        "outputId": "e9a5627d-9c82-43eb-9be7-d2064e585167"
      },
      "source": [
        "# Get data and preparing\n",
        "PATH = URL_DATA + '/Temp/Original/'\n",
        "name_dataset = 'AgustinData'\n",
        "img_names= os.listdir(PATH)\n",
        "\n",
        "print(\"Preparing data from: {}\".format(name_dataset))\n",
        "print(\"Datapath from drive is:\", PATH)\n",
        "print(\"Total images collected:\", len(img_names))"
      ],
      "execution_count": 55,
      "outputs": [
        {
          "output_type": "stream",
          "text": [
            "Preparing data from: AgustinData\n",
            "Datapath from drive is: /content/drive/My Drive/Machine Learning/Temp/Original/\n",
            "Total images collected: 1284\n"
          ],
          "name": "stdout"
        }
      ]
    },
    {
      "cell_type": "markdown",
      "metadata": {
        "id": "dhRLzXIvk8Nj"
      },
      "source": [
        "\n",
        "## 2. Preparing data for training a deep neural network\n",
        "\n",
        "1. Define Functions\n",
        "2. Define Model\n",
        "  - Convert to grayscale\n",
        "  - Face detection\n",
        "  - Eye detection\n",
        "  - Image Rotation\n",
        "  - Face and Eye Re-detection\n",
        "  - Cropping and Scaling\n",
        "  - Save images\n",
        "  - Track metrics\n",
        "3. Execute model\n",
        "3. Manual Preprocesing undetactable Images\n"
      ]
    },
    {
      "cell_type": "markdown",
      "metadata": {
        "id": "RJ2aHXWRCJEl"
      },
      "source": [
        "### Step 2.1\n",
        "Define functions"
      ]
    },
    {
      "cell_type": "code",
      "metadata": {
        "id": "NPItGm9_InIx"
      },
      "source": [
        "def GetCropFace(imgGray, scale, minNeig):\n",
        "    grayCrop = []\n",
        "    faceDetection = faces_cascade.detectMultiScale(imgGray, scale, minNeig)\n",
        "    print('Can detect(face): {}'.format(len(faceDetection)))\n",
        "    \n",
        "    if len(faceDetection) == 1:\n",
        "      (x, y, w, h) = faceDetection[0]\n",
        "      grayCrop.append(imgGray[y:y+h, x:x+w])\n",
        "\n",
        "      cv2.rectangle(imgGray, (x, y), (x+w, y+h), (0, 255, 0), 1);\n",
        "      ShowImage(imgGray[y:y+h, x:x+w])\n",
        "\n",
        "    return faceDetection, grayCrop"
      ],
      "execution_count": 27,
      "outputs": []
    },
    {
      "cell_type": "code",
      "metadata": {
        "id": "TNUWr2DP7YvD"
      },
      "source": [
        "def SaveImage(img, total_facedetection, num):\n",
        "    datapath_saving = URL_DATA + '/Temp'\n",
        "\n",
        "    if total_facedetection == 1:\n",
        "        # Process finished correctly    \n",
        "        datapath_saving = datapath_saving + '/Correct/' + 'out_' +str(num)+ '.jpg'\n",
        "        #print('Saving on: ', datapath_saving)\n",
        "    elif total_facedetection > 1:\n",
        "        # Multiples faces on image\n",
        "        datapath_saving = datapath_saving + '/Multiple/' + 'mult_' +str(num)+ '.jpg'\n",
        "        #print('Saving on: ', datapath_saving)\n",
        "    else:\n",
        "        # Face undetacteble\n",
        "        datapath_saving = datapath_saving + '/Undetect/' + 'undetect_' +str(num)+ '.jpg'\n",
        "        #print('Saving on: ', datapath_saving)\n",
        "\n",
        "    SaveOpenCvImage(img, datapath_saving)\n",
        "\n",
        "def SaveOpenCvImage(img, path):\n",
        "    try:\n",
        "        cv2.imwrite(path, img)\n",
        "    except Exception as e:\n",
        "        print('Exception: ', e)"
      ],
      "execution_count": 87,
      "outputs": []
    },
    {
      "cell_type": "code",
      "metadata": {
        "id": "_OnzLFwWIwda"
      },
      "source": [
        "def ShowImage(img):    \n",
        "    fig= plt.figure(figsize=(5, 5))\n",
        "    rows = 1\n",
        "\n",
        "    fig.add_subplot(rows, 1, 1)\n",
        "    plt.imshow(img[:,:,::-1])\n",
        "    plt.show()"
      ],
      "execution_count": 29,
      "outputs": []
    },
    {
      "cell_type": "code",
      "metadata": {
        "id": "fU0kFG-1LXKI"
      },
      "source": [
        "def GetCropEyes(imgGray, faceDetection):\n",
        "    faceGray_crop = []\n",
        "    eyesDetection = []\n",
        "    result = False\n",
        "\n",
        "    eyeDetection = eyes_cascade.detectMultiScale(faceGray, eyeScale, eyesMinNeighborgs) # Eyes detector      \n",
        "    print('Eyes detection: ', len(eyeDetection))\n",
        "\n",
        "    if len(eyeDetection) != 2 or len(eyeDetection) < 2:\n",
        "        return result, eyeDetection, faceGray_crop\n",
        "\n",
        "    for (ex, ey ,ew, eh) in eyeDetection: \n",
        "        result = True\n",
        "        cv2.rectangle(faceGray, (ex,ey), (ex+ew, ey+eh), (0, 255, 0), 4)\n",
        "        faceGray_crop.append(faceGray) # Facegray\n",
        "        \n",
        "    return result, eyeDetection, faceGray_crop"
      ],
      "execution_count": 30,
      "outputs": []
    },
    {
      "cell_type": "code",
      "metadata": {
        "id": "0xEafF3mMTQm"
      },
      "source": [
        "def image_resize(image, width = None, height = None, inter = cv2.INTER_AREA):\n",
        "    # initialize the dimensions of the image to be resized and\n",
        "    # grab the image size\n",
        "    dim = None\n",
        "    (h, w) = image.shape[:2]\n",
        "\n",
        "    # if both the width and height are None, then return the\n",
        "    # original image\n",
        "    if width is None and height is None:\n",
        "        return image\n",
        "\n",
        "    # check to see if the width is None\n",
        "    if width is None:\n",
        "        # calculate the ratio of the height and construct the\n",
        "        # dimensions\n",
        "        r = height / float(h)\n",
        "        dim = (int(w * r), height)\n",
        "\n",
        "    # otherwise, the height is None\n",
        "    else:\n",
        "        # calculate the ratio of the width and construct the\n",
        "        # dimensions\n",
        "        r = width / float(w)\n",
        "        dim = (width, int(h * r))\n",
        "\n",
        "    # resize the image\n",
        "    resized = cv2.resize(image, dim, interpolation = inter)\n",
        "\n",
        "    # return the resized image\n",
        "    return resized"
      ],
      "execution_count": 31,
      "outputs": []
    },
    {
      "cell_type": "code",
      "metadata": {
        "id": "NmArMF_II6SI"
      },
      "source": [
        "def TrackMetrics(name, correct, incorrect, fail, min_i, max_i, execute_time):\n",
        "  metrics = {\n",
        "            \"Name\": name,\n",
        "            \"Images\": (max_i - min_i),\n",
        "            \"Min\": min_i,\n",
        "            \"Max\": max_i,\n",
        "            \"CorrectProcess\": correct,\n",
        "            \"IncorrectProcess\": incorrect,\n",
        "            \"Accuracy\": (correct / (correct + incorrect)) * 100,\n",
        "            \"Exceptions\": fail,\n",
        "            \"ExecutionTime\": execute_time,    \n",
        "          }\n",
        "          \n",
        "  print(json.dumps(metrics))\n",
        "\n",
        "  x = json.dumps(metrics)\n",
        "  y = x.encode('utf-8')\n",
        "\n",
        "  with open(\"(metrics){}_{}to{}_{}.json\".format(name, min_i, max_i, date.today()), 'w') as f:\n",
        "    f.write(json.dumps(metrics))\n",
        "  files.download(\"(metrics){}_{}to{}_{}.json\".format(name, min_i, max_i, date.today()))"
      ],
      "execution_count": 105,
      "outputs": []
    },
    {
      "cell_type": "markdown",
      "metadata": {
        "id": "p0LKowm3jx29"
      },
      "source": [
        "### Step 2.1\n",
        "Define model"
      ]
    },
    {
      "cell_type": "code",
      "metadata": {
        "tags": [
          "outputPrepend"
        ],
        "id": "lhxdFWFjjx29"
      },
      "source": [
        "def FaceProcessData(path, img_names, min_i, max_i, widht_image = 32, height_image = 32, reset = True, metrics = True):\n",
        "  # Process face images of img_names path\n",
        "  print('Initializing FaceProcessData()\\n')\n",
        "  print('Parameters: ')\n",
        "  print('--------------------------------------')\n",
        "  print('Name: {}'.format(name_dataset))\n",
        "  print('Images: {}'.format(max_i - min_i))\n",
        "  print('Widht out: {}'.format(widht_image))\n",
        "  print('Height out: {}'.format(height_image))\n",
        "  print('Reset: {}'.format(reset))\n",
        "  print('Metrics: {}'.format(metrics))\n",
        "  print('Saving files in: {}'.format(URL_DATA))\n",
        "  print('--------------------------------------\\n')\n",
        "\n",
        "  if reset:\n",
        "    fail = 0\n",
        "    correct = 0\n",
        "    incorrect = 0\n",
        "    index = 0\n",
        "\n",
        "  pb = ProgressBar(total=max_i, prefix='Progress', suffix='Complete', decimals=2, length=50, zfill='-')\n",
        "  tiempo_inicial = time()\n",
        "\n",
        "  for imgname in img_names[min_i : max_i]:\n",
        "      index = index + 1\n",
        "      pb.print_progress_bar(index)\n",
        "\n",
        "      img_path = os.path.join(path, imgname)\n",
        "      img = cv2.imread(img_path)\n",
        "\n",
        "      #print('\\nRead Image: ', imgname)\n",
        "      try:\n",
        "          # 1. Convert to gray scale\n",
        "          gray = cv2.cvtColor(img, cv2.COLOR_BGR2GRAY)\n",
        "          # 2. Face detection\n",
        "          faceDetection = faces_cascade.detectMultiScale(gray, faceScale, faceMinNeighborgs)\n",
        "          #print('Can detect(face): ', len(faceDetection))\n",
        "\n",
        "\n",
        "          if len(faceDetection) == 1:\n",
        "            (x, y, w, h) = faceDetection[0]\n",
        "\n",
        "            # 3. Eye detection\n",
        "            #eyesDetection = eyes_cascade.detectMultiScale(cropImage, eyeScale, eyesMinNeighborgs)\n",
        "            #print('Can detect(eyes): ', len(eyesDetection))\n",
        "\n",
        "            \"\"\"if len(eyesDetection) == 2:\n",
        "              for (ex, ey, ew, eh) in eyesDetection:\n",
        "                  cv2.rectangle(img, (x+ex, y+ey), (x+ex+ew, y+ey+eh), \n",
        "                                # (255, 255, 255), 1)\"\"\"\n",
        "              \n",
        "            # 4. Cropping and scaling\n",
        "            cropImage = img[y:y+h, x:x+w]\n",
        "            cropImage = image_resize(cropImage, 32, 32)\n",
        "\n",
        "            # 5. Normalize image \n",
        "            norm_img = np.zeros((300, 300))\n",
        "            norm_img = cv2.normalize(cropImage, norm_img, 0, 255, cv2.NORM_MINMAX)\n",
        "\n",
        "            # 6. Save image\n",
        "            #ShowImage(norm_img)\n",
        "            SaveImage(norm_img, len(faceDetection), index)\n",
        "\n",
        "            # 7. Track metrics\n",
        "            correct = correct + 1\n",
        "            #print(\"Correctly process detection!\")\n",
        "              \n",
        "          if len(faceDetection) == 0 or len(faceDetection) > 1:\n",
        "              # Save incorrect image and track metrics\n",
        "              incorrect = incorrect + 1\n",
        "              SaveImage(img, len(faceDetection), index)\n",
        "              #print(\"Incorrectly process detection!\") \n",
        "\n",
        "      except Exception as e:\n",
        "          fail = fail + 1\n",
        "          print('Exception:', e)\n",
        "\n",
        "  # Track metrics\n",
        "  tiempo_final = time() \n",
        "  execute_time = tiempo_final - tiempo_inicial\n",
        "\n",
        "  print('\\nExecute time: {}'.format(str(execute_time)))\n",
        "  if metrics:\n",
        "    TrackMetrics(name_dataset, correct, incorrect, fail, min_i, max_i, execute_time)"
      ],
      "execution_count": 111,
      "outputs": []
    },
    {
      "cell_type": "markdown",
      "metadata": {
        "id": "RNsjQNEsVNCw"
      },
      "source": [
        "### Step 2.2\n",
        "Execute model"
      ]
    },
    {
      "cell_type": "code",
      "metadata": {
        "id": "Hh0wIw7ldTvB",
        "colab": {
          "base_uri": "https://localhost:8080/",
          "height": 326
        },
        "outputId": "a9602f76-1ecf-4002-b920-1074bb82f54d"
      },
      "source": [
        "PATH = URL_DATA + '/Temp/Original/'\n",
        "min = 0\n",
        "max = 1\n",
        "\n",
        "FaceProcessData(PATH, img_names, min_i=min, max_i=max)"
      ],
      "execution_count": 112,
      "outputs": [
        {
          "output_type": "stream",
          "text": [
            "Initializing FaceProcessData()\n",
            "\n",
            "Parameters: \n",
            "--------------------------------------\n",
            "Name: AgustinData\n",
            "Images: 1\n",
            "Widht out: 32\n",
            "Height out: 32\n",
            "Reset: True\n",
            "Metrics: True\n",
            "Saving files in: /content/drive/My Drive/Machine Learning\n",
            "--------------------------------------\n",
            "\n",
            "\rProgress |██████████████████████████████████████████████████| 100.00% Complete\n",
            "\n",
            "Execute time: 7.247582674026489\n",
            "{\"Name\": \"AgustinData\", \"Images\": 1, \"Min\": 0, \"Max\": 1, \"CorrectProcess\": 1, \"IncorrectProcess\": 0, \"Accuracy\": 100.0, \"Exceptions\": 0, \"ExecutionTime\": 7.247582674026489}\n"
          ],
          "name": "stdout"
        },
        {
          "output_type": "display_data",
          "data": {
            "application/javascript": [
              "\n",
              "    async function download(id, filename, size) {\n",
              "      if (!google.colab.kernel.accessAllowed) {\n",
              "        return;\n",
              "      }\n",
              "      const div = document.createElement('div');\n",
              "      const label = document.createElement('label');\n",
              "      label.textContent = `Downloading \"${filename}\": `;\n",
              "      div.appendChild(label);\n",
              "      const progress = document.createElement('progress');\n",
              "      progress.max = size;\n",
              "      div.appendChild(progress);\n",
              "      document.body.appendChild(div);\n",
              "\n",
              "      const buffers = [];\n",
              "      let downloaded = 0;\n",
              "\n",
              "      const channel = await google.colab.kernel.comms.open(id);\n",
              "      // Send a message to notify the kernel that we're ready.\n",
              "      channel.send({})\n",
              "\n",
              "      for await (const message of channel.messages) {\n",
              "        // Send a message to notify the kernel that we're ready.\n",
              "        channel.send({})\n",
              "        if (message.buffers) {\n",
              "          for (const buffer of message.buffers) {\n",
              "            buffers.push(buffer);\n",
              "            downloaded += buffer.byteLength;\n",
              "            progress.value = downloaded;\n",
              "          }\n",
              "        }\n",
              "      }\n",
              "      const blob = new Blob(buffers, {type: 'application/binary'});\n",
              "      const a = document.createElement('a');\n",
              "      a.href = window.URL.createObjectURL(blob);\n",
              "      a.download = filename;\n",
              "      div.appendChild(a);\n",
              "      a.click();\n",
              "      div.remove();\n",
              "    }\n",
              "  "
            ],
            "text/plain": [
              "<IPython.core.display.Javascript object>"
            ]
          },
          "metadata": {
            "tags": []
          }
        },
        {
          "output_type": "display_data",
          "data": {
            "application/javascript": [
              "download(\"download_4da0d416-67cd-4e13-b25b-c3b6a662effa\", \"(metrics)AgustinData_0to1_2021-07-01.json\", 172)"
            ],
            "text/plain": [
              "<IPython.core.display.Javascript object>"
            ]
          },
          "metadata": {
            "tags": []
          }
        }
      ]
    },
    {
      "cell_type": "markdown",
      "metadata": {
        "id": "F3wFBPYZVCM4"
      },
      "source": [
        ""
      ]
    }
  ]
}