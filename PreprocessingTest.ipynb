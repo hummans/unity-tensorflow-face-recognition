{
 "metadata": {
  "language_info": {
   "codemirror_mode": {
    "name": "ipython",
    "version": 3
   },
   "file_extension": ".py",
   "mimetype": "text/x-python",
   "name": "python",
   "nbconvert_exporter": "python",
   "pygments_lexer": "ipython3",
   "version": "3.9.4"
  },
  "orig_nbformat": 2,
  "kernelspec": {
   "name": "python394jvsc74a57bd0d7f32d9ee47d8d5f9ffdb6c46c9e61546893e0939af1c59848852da899251be4",
   "display_name": "Python 3.9.4 64-bit ('machine-learning-basics': conda)"
  }
 },
 "nbformat": 4,
 "nbformat_minor": 2,
 "cells": [
  {
   "source": [
    "## 1. Preprocesing single image\n",
    "---\n",
    "Using CV2 and Os"
   ],
   "cell_type": "markdown",
   "metadata": {}
  },
  {
   "cell_type": "code",
   "execution_count": 2,
   "metadata": {},
   "outputs": [],
   "source": [
    "import cv2\n",
    "import os\n",
    "import numpy as np"
   ]
  },
  {
   "cell_type": "code",
   "execution_count": 10,
   "metadata": {},
   "outputs": [],
   "source": [
    "path = 'Data/Images/MeTest/Me (1).jpg'\n",
    "\n",
    "image = cv2.imread(path)\n",
    "cv2.imshow(\"OpenCV\",image)\n",
    "cv2.waitKey(0)\n",
    "cv2.destroyAllWindows()"
   ]
  },
  {
   "cell_type": "code",
   "execution_count": 11,
   "metadata": {},
   "outputs": [
    {
     "output_type": "stream",
     "name": "stdout",
     "text": [
      "47616768\n(5312, 2988, 3)\n"
     ]
    }
   ],
   "source": [
    "imageize = image.size\n",
    "imageshape = image.shape\n",
    "\n",
    "print(imageize)\n",
    "print(imageshape)"
   ]
  },
  {
   "cell_type": "code",
   "execution_count": 12,
   "metadata": {},
   "outputs": [],
   "source": [
    "# Convert to grayscale \n",
    "imagegrayscale = cv2.cvtColor(image, cv2.COLOR_BGR2GRAY)\n",
    "cv2.imshow(\"OpenCV\",imagegrayscale)\n",
    "cv2.waitKey(0)\n",
    "cv2.destroyAllWindows()"
   ]
  },
  {
   "cell_type": "code",
   "execution_count": 13,
   "metadata": {},
   "outputs": [
    {
     "output_type": "execute_result",
     "data": {
      "text/plain": [
       "True"
      ]
     },
     "metadata": {},
     "execution_count": 13
    }
   ],
   "source": [
    "# Saving\n",
    "cv2.imwrite('out_1.jpg', imagegrayscale)"
   ]
  },
  {
   "source": [
    "## 1. Preprocesing multiples images\n",
    "---\n",
    "Using CV2 and Os\n",
    "\n",
    "Steps:\n",
    "\n",
    "1. Convert to grayscale"
   ],
   "cell_type": "markdown",
   "metadata": {}
  },
  {
   "cell_type": "code",
   "execution_count": 8,
   "metadata": {},
   "outputs": [
    {
     "output_type": "stream",
     "name": "stdout",
     "text": [
      "{'Me': 0, 'MeTest': 1, 'MyFamily': 2}\n['Me', 'MeTest', 'MyFamily']\n[0, 1, 2]\n"
     ]
    }
   ],
   "source": [
    "# Import images labels\n",
    "\n",
    "data_path = 'Data/Images/'\n",
    "categories = os.listdir(data_path)\n",
    "labels=[i for i in range(len(categories))]\n",
    "\n",
    "label_dict=dict(zip(categories,labels)) #empty dictionary\n",
    "\n",
    "print(label_dict)\n",
    "print(categories)\n",
    "print(labels)"
   ]
  },
  {
   "cell_type": "code",
   "execution_count": 15,
   "metadata": {},
   "outputs": [
    {
     "output_type": "stream",
     "name": "stdout",
     "text": [
      "['Me (1).jpg', 'Me (2).jpg', 'Me (3).jpg', 'Me (4).jpg', 'Me (5).jpg', 'Me (6).jpg']\n",
      "Data/Images/MeTest/Me (1).jpg\n",
      "Data/Images/MeTest/Me (2).jpg\n",
      "Data/Images/MeTest/Me (3).jpg\n",
      "Data/Images/MeTest/Me (4).jpg\n",
      "Data/Images/MeTest/Me (5).jpg\n",
      "Data/Images/MeTest/Me (6).jpg\n"
     ]
    }
   ],
   "source": [
    "img_size=600\n",
    "imagedata=[]\n",
    "\n",
    "datapath = 'Data/Images/MeTest/'\n",
    "img_names= os.listdir(datapath)\n",
    "print(img_names)\n",
    "\n",
    "for imgname in img_names:\n",
    "    img_path = os.path.join(datapath,imgname)\n",
    "    img = cv2.imread(img_path)\n",
    "    print(img_path)\n",
    "\n",
    "    try:\n",
    "        # Convert to gray scale\n",
    "        gray = cv2.cvtColor(img, cv2.COLOR_BGR2GRAY)   \n",
    "        # Face detection\n",
    "\n",
    "        # Eye detection\n",
    "\n",
    "        # Rotation\n",
    "\n",
    "        # Face and eye re-detection\n",
    "\n",
    "        # Cropping and scaling\n",
    "        # Resize   \n",
    "        resized = cv2.resize(gray,(img_size,img_size))\n",
    "        imagedata.append(resized)\n",
    "\n",
    "        cv2.imshow(imgname, resized)\n",
    "        cv2.waitKey(1000)\n",
    "        cv2.destroyAllWindows()\n",
    "    except Exception as e:\n",
    "         print('Exception:', e)\n",
    "                 "
   ]
  },
  {
   "cell_type": "code",
   "execution_count": 16,
   "metadata": {},
   "outputs": [
    {
     "output_type": "stream",
     "name": "stdout",
     "text": [
      "Images proccesing: 6\nSaving on:  Data/ImagesProcessing/MeTest/\n"
     ]
    }
   ],
   "source": [
    "# Saving data\n",
    "\n",
    "datapath_saving = 'Data/ImagesProcessing/MeTest/'\n",
    "\n",
    "print('Images proccesing: ' + str(len(imagedata)))\n",
    "print('Saving on: ', datapath_saving)\n",
    "\n",
    "for x in range(0, len(imagedata)):\n",
    "    cv2.imwrite(datapath_saving + 'out_'+str(x+1)+'.jpg', imagedata[x])"
   ]
  }
 ]
}